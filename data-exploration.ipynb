{
 "cells": [
  {
   "cell_type": "markdown",
   "metadata": {},
   "source": [
    "# Data exploration of data in timestream db\n"
   ]
  },
  {
   "cell_type": "markdown",
   "metadata": {},
   "source": [
    "## Initialization\n"
   ]
  },
  {
   "cell_type": "markdown",
   "metadata": {},
   "source": [
    "### Imports\n"
   ]
  },
  {
   "cell_type": "code",
   "execution_count": null,
   "metadata": {
    "execution": {
     "iopub.execute_input": "2022-06-21T07:21:43.316637Z",
     "iopub.status.busy": "2022-06-21T07:21:43.315931Z",
     "iopub.status.idle": "2022-06-21T07:21:44.852819Z",
     "shell.execute_reply": "2022-06-21T07:21:44.852143Z"
    }
   },
   "outputs": [],
   "source": [
    "from os import makedirs\n",
    "from itertools import repeat\n",
    "from typing import Optional, Sequence\n",
    "\n",
    "import awswrangler as wr\n",
    "import numpy as np\n",
    "import pandas as pd\n",
    "import plotly.graph_objects as go\n",
    "import scipy.signal as signal\n",
    "from dotenv import load_dotenv\n",
    "from numpy.polynomial import Polynomial\n",
    "\n",
    "load_dotenv()\n"
   ]
  },
  {
   "cell_type": "markdown",
   "metadata": {},
   "source": [
    "### Data retrieval\n"
   ]
  },
  {
   "cell_type": "code",
   "execution_count": null,
   "metadata": {
    "execution": {
     "iopub.execute_input": "2022-06-21T07:21:44.892715Z",
     "iopub.status.busy": "2022-06-21T07:21:44.892172Z",
     "iopub.status.idle": "2022-06-21T07:21:47.060044Z",
     "shell.execute_reply": "2022-06-21T07:21:47.058889Z"
    }
   },
   "outputs": [],
   "source": [
    "df: pd.DataFrame = wr.timestream.query('SELECT * FROM \"when-to-water\".\"sensor-data\"')\n",
    "print(f\"Retrieved {len(df)} records\")\n"
   ]
  },
  {
   "cell_type": "markdown",
   "metadata": {},
   "source": [
    "### Constants, classes and functions\n"
   ]
  },
  {
   "cell_type": "code",
   "execution_count": null,
   "metadata": {
    "execution": {
     "iopub.execute_input": "2022-06-21T07:21:47.065369Z",
     "iopub.status.busy": "2022-06-21T07:21:47.064946Z",
     "iopub.status.idle": "2022-06-21T07:21:47.070139Z",
     "shell.execute_reply": "2022-06-21T07:21:47.069195Z"
    }
   },
   "outputs": [],
   "source": [
    "SENSOR_PLANT_MAPPING: dict = {\n",
    "    \"PWS_1\": \"Goldfruchtpalme\",\n",
    "    \"PWS_2\": \"Pilea\",\n",
    "    \"PWS_3\": \"Drachenbaum\",\n",
    "}\n",
    "PLANTS: tuple[str, ...] = tuple(SENSOR_PLANT_MAPPING.values())\n",
    "COLORS: tuple[str, ...] = (\n",
    "    \"#E69F00\",\n",
    "    \"#56B4E9\",\n",
    "    \"#009E73\",\n",
    "    \"#F0E442\",\n",
    "    \"#0072B2\",\n",
    "    \"#D55E00\",\n",
    "    \"#CC79A7\",\n",
    ")\n",
    "MINIMUM_MOISTURE: dict = {\n",
    "    \"Goldfruchtpalme\": 10,\n",
    "    \"Pilea\": 20,\n",
    "    \"Drachenbaum\": 30,\n",
    "}\n",
    "\n",
    "\n",
    "def remove_outliers(\n",
    "    df: pd.DataFrame, columns: Sequence[str], n_std: int\n",
    ") -> pd.DataFrame:\n",
    "    print(f\"Old length: {len(df)}\")\n",
    "    for col in columns:\n",
    "        mean = df[col].mean()\n",
    "        sd = df[col].std()\n",
    "\n",
    "        df = df[(df[col] <= mean + (n_std * sd))]\n",
    "        df = df[(df[col] >= mean - (n_std * sd))]\n",
    "\n",
    "    print(f\"New length: {len(df)}\")\n",
    "    return df\n"
   ]
  },
  {
   "cell_type": "markdown",
   "metadata": {},
   "source": [
    "## Transformations\n"
   ]
  },
  {
   "cell_type": "markdown",
   "metadata": {},
   "source": [
    "### General\n"
   ]
  },
  {
   "cell_type": "code",
   "execution_count": null,
   "metadata": {
    "execution": {
     "iopub.execute_input": "2022-06-21T07:21:47.074561Z",
     "iopub.status.busy": "2022-06-21T07:21:47.074161Z",
     "iopub.status.idle": "2022-06-21T07:21:47.190779Z",
     "shell.execute_reply": "2022-06-21T07:21:47.189929Z"
    }
   },
   "outputs": [],
   "source": [
    "df[\"time\"] = pd.to_datetime(df[\"time\"])\n",
    "df.rename(\n",
    "    columns={\"measure_value::double\": \"value\", \"sensor_name\": \"plant\"}, inplace=True\n",
    ")\n",
    "df[\"value\"] = df[\"value\"].astype(float)\n",
    "\n",
    "\n",
    "df[\"plant\"] = df[\"plant\"].map(SENSOR_PLANT_MAPPING)\n",
    "df.dropna(inplace=True)\n",
    "# drop power\n",
    "df = df[df[\"measure_name\"] != \"power\"]\n",
    "\n",
    "# add unit to measurement name\n",
    "df[\"measure_name\"] = df[\"measure_name\"].str.replace(\"_\", \" \") + \" in \" + df[\"unit\"]\n",
    "measurements = df[\"measure_name\"].unique().tolist()\n",
    "\n",
    "# drop unit\n",
    "df.drop(columns=[\"unit\"], inplace=True)\n",
    "\n",
    "# remove 0 moisture\n",
    "df = df[~((df[\"measure_name\"] == \"soil moisture in %\") & (df[\"value\"] == 0))]\n",
    "\n",
    "# Resample df to hourly measures\n",
    "df.set_index(\"time\", inplace=True)\n",
    "df = df.groupby([\"plant\", \"measure_name\"]).resample(\"H\").mean().reset_index()\n",
    "\n",
    "df.set_index([\"time\", \"plant\", \"measure_name\"], inplace=True)\n",
    "df = df.unstack().reset_index()\n",
    "df.columns = [\" \".join(col).strip().replace(\"value \", \"\") for col in df.columns.values]\n",
    "df.reset_index(drop=True, inplace=True)\n",
    "\n",
    "df.set_index(\"time\", inplace=True)\n",
    "for plant in PLANTS:\n",
    "    df[df[\"plant\"] == plant] = df[df[\"plant\"] == plant].interpolate(method=\"time\")\n",
    "\n",
    "df.reset_index(inplace=True)\n"
   ]
  },
  {
   "cell_type": "markdown",
   "metadata": {},
   "source": [
    "### Identify valleys/peaks in moisture\n"
   ]
  },
  {
   "cell_type": "code",
   "execution_count": null,
   "metadata": {
    "execution": {
     "iopub.execute_input": "2022-06-21T07:21:47.196188Z",
     "iopub.status.busy": "2022-06-21T07:21:47.195520Z",
     "iopub.status.idle": "2022-06-21T07:21:47.208780Z",
     "shell.execute_reply": "2022-06-21T07:21:47.208015Z"
    }
   },
   "outputs": [],
   "source": [
    "DISTANCE = 3\n",
    "PROMINENCE = 2\n",
    "\n",
    "all_peaks: list = []\n",
    "all_valleys: list = []\n",
    "\n",
    "for plant in PLANTS:\n",
    "    df_plant = df[df[\"plant\"] == plant]\n",
    "    peaks = signal.find_peaks(\n",
    "        df_plant[\"soil moisture in %\"],\n",
    "        distance=DISTANCE,\n",
    "        prominence=PROMINENCE,\n",
    "    )[0]\n",
    "    valleys = signal.find_peaks(\n",
    "        -df_plant[\"soil moisture in %\"],\n",
    "        distance=DISTANCE,\n",
    "        prominence=PROMINENCE,\n",
    "    )[0]\n",
    "    # translate row to index\n",
    "    all_peaks += [df_plant.index[peak] for peak in peaks]\n",
    "    all_valleys += [df_plant.index[valley] for valley in valleys]\n",
    "\n",
    "df[\"peak\"] = df.index.isin(all_peaks)\n",
    "df[\"valley\"] = df.index.isin(all_valleys)\n"
   ]
  },
  {
   "cell_type": "markdown",
   "metadata": {},
   "source": [
    "### Pick descends and normalize soil moisture\n"
   ]
  },
  {
   "cell_type": "code",
   "execution_count": null,
   "metadata": {
    "execution": {
     "iopub.execute_input": "2022-06-21T07:21:47.214125Z",
     "iopub.status.busy": "2022-06-21T07:21:47.213643Z",
     "iopub.status.idle": "2022-06-21T07:21:47.370418Z",
     "shell.execute_reply": "2022-06-21T07:21:47.369547Z"
    }
   },
   "outputs": [],
   "source": [
    "decending_dfs: list[pd.DataFrame] = []\n",
    "for plant in PLANTS:\n",
    "    last_peak = -1\n",
    "    last_valley = -1\n",
    "    df_plant = df[df[\"plant\"] == plant].copy()\n",
    "    df_plant.reset_index(drop=True, inplace=True)\n",
    "    for row in df_plant.itertuples():\n",
    "        if row.peak:\n",
    "            last_peak = row.Index\n",
    "        if row.valley:\n",
    "            last_valley = row.Index\n",
    "            if last_peak > -1 and last_peak < last_valley:\n",
    "                df_candidate = df_plant.iloc[last_peak:last_valley].copy()\n",
    "                mininmum_dt = df_candidate[\"time\"].min()\n",
    "                # offset in days\n",
    "                df_candidate[\"offset\"] = (\n",
    "                    (df_candidate[\"time\"] - mininmum_dt).dt.total_seconds() / 3600 / 24\n",
    "                )\n",
    "                if (\n",
    "                    df_candidate.iloc[0][\"soil moisture in %\"]\n",
    "                    < df_candidate.iloc[-1][\"soil moisture in %\"]\n",
    "                ):\n",
    "                    continue\n",
    "\n",
    "                # remove outliers\n",
    "                # df_candidate = remove_outliers(df_candidate,[\"soil moisture in %\"],1)\n",
    "                if df_candidate.empty:\n",
    "                    continue\n",
    "\n",
    "                # normalize\n",
    "                df_candidate[\"soil moisture in %\"] = df_candidate[\n",
    "                    \"soil moisture in %\"\n",
    "                ] + (100 - df_candidate[\"soil moisture in %\"].max())\n",
    "\n",
    "                decending_dfs.append(df_candidate)\n",
    "\n",
    "    all_decending_dfs = pd.concat(decending_dfs)\n"
   ]
  },
  {
   "cell_type": "markdown",
   "metadata": {},
   "source": [
    "## Regression\n"
   ]
  },
  {
   "cell_type": "code",
   "execution_count": null,
   "metadata": {
    "execution": {
     "iopub.execute_input": "2022-06-21T07:21:47.375269Z",
     "iopub.status.busy": "2022-06-21T07:21:47.374828Z",
     "iopub.status.idle": "2022-06-21T07:21:47.389040Z",
     "shell.execute_reply": "2022-06-21T07:21:47.388213Z"
    }
   },
   "outputs": [],
   "source": [
    "polyfits: dict = {}\n",
    "for plant in PLANTS:\n",
    "    polyfits[plant] = Polynomial.fit(\n",
    "        all_decending_dfs[all_decending_dfs[\"plant\"] == plant][\"offset\"],\n",
    "        all_decending_dfs[all_decending_dfs[\"plant\"] == plant][\"soil moisture in %\"],\n",
    "        1,\n",
    "    )\n"
   ]
  },
  {
   "cell_type": "markdown",
   "metadata": {},
   "source": [
    "## Find next watering time\n"
   ]
  },
  {
   "cell_type": "code",
   "execution_count": null,
   "metadata": {},
   "outputs": [],
   "source": [
    "for plant in PLANTS:\n",
    "    newest_time = df[df[\"plant\"] == plant][\"time\"].max()\n",
    "    newest_moisture = df[(df[\"plant\"] == plant) & (df[\"time\"] == newest_time)][\n",
    "        \"soil moisture in %\"\n",
    "    ]\n",
    "    roots_current = (polyfits[plant] - newest_moisture).roots()\n",
    "    roots_minimum = (polyfits[plant] - MINIMUM_MOISTURE[plant]).roots()\n",
    "    print(\n",
    "        f\"{plant} will reach {MINIMUM_MOISTURE[plant]} % moisture in {int(roots_minimum[0] - roots_current[0])} days\"\n",
    "    )\n"
   ]
  },
  {
   "cell_type": "markdown",
   "metadata": {},
   "source": [
    "## Plots\n"
   ]
  },
  {
   "cell_type": "code",
   "execution_count": null,
   "metadata": {
    "execution": {
     "iopub.execute_input": "2022-06-21T07:21:47.394056Z",
     "iopub.status.busy": "2022-06-21T07:21:47.393601Z",
     "iopub.status.idle": "2022-06-21T07:21:47.871769Z",
     "shell.execute_reply": "2022-06-21T07:21:47.870822Z"
    }
   },
   "outputs": [],
   "source": [
    "figure = go.Figure(\n",
    "    layout=go.Layout(\n",
    "        title=\"Moisture Regression\",\n",
    "        width=1280,\n",
    "        height=720,\n",
    "        template=\"plotly_white\",\n",
    "    )\n",
    ")\n",
    "\n",
    "for index, plant in enumerate(PLANTS):\n",
    "    figure.add_trace(\n",
    "        go.Scatter(\n",
    "            x=all_decending_dfs[all_decending_dfs[\"plant\"] == plant][\"offset\"],\n",
    "            y=all_decending_dfs[all_decending_dfs[\"plant\"] == plant][\n",
    "                \"soil moisture in %\"\n",
    "            ],\n",
    "            mode=\"markers\",\n",
    "            name=plant,\n",
    "            opacity=0.5,\n",
    "            marker=dict(color=COLORS[index], size=3),\n",
    "        )\n",
    "    )\n",
    "    poly_x, poly_y = polyfits[plant].linspace(100)\n",
    "    figure.add_trace(\n",
    "        go.Scatter(\n",
    "            x=poly_x,\n",
    "            y=poly_y,\n",
    "            mode=\"lines\",\n",
    "            name=f\"regression {plant}\",\n",
    "            opacity=1,\n",
    "            line=dict(color=COLORS[index], width=2, dash=\"longdash\"),\n",
    "        )\n",
    "    )\n",
    "\n",
    "figure.update_scenes(\n",
    "    dict(\n",
    "        xaxis_title=\"Time after last watering in days\",\n",
    "        yaxis_title=\"soil moisture in %\",\n",
    "    )\n",
    ")\n",
    "\n",
    "makedirs(\"./dist\", exist_ok=True)\n",
    "figure.write_html(\"./dist/moisture_regression.html\")\n",
    "\n",
    "figure.show()\n"
   ]
  }
 ],
 "metadata": {
  "kernelspec": {
   "display_name": "Python 3.10.5 ('.venv': pipenv)",
   "language": "python",
   "name": "python3"
  },
  "language_info": {
   "codemirror_mode": {
    "name": "ipython",
    "version": 3
   },
   "file_extension": ".py",
   "mimetype": "text/x-python",
   "name": "python",
   "nbconvert_exporter": "python",
   "pygments_lexer": "ipython3",
   "version": "3.10.5"
  },
  "vscode": {
   "interpreter": {
    "hash": "7fe94d0ba399a10f1bc5b7fcd8bb8b2babe14e46ba96171e9ecdaf19bd6f988c"
   }
  }
 },
 "nbformat": 4,
 "nbformat_minor": 2
}
